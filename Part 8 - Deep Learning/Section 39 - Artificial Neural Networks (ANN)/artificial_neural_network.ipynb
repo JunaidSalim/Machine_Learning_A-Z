{
  "nbformat": 4,
  "nbformat_minor": 0,
  "metadata": {
    "colab": {
      "provenance": []
    },
    "kernelspec": {
      "name": "python3",
      "display_name": "Python 3"
    }
  },
  "cells": [
    {
      "cell_type": "markdown",
      "metadata": {
        "id": "lP6JLo1tGNBg"
      },
      "source": [
        "# Artificial Neural Network"
      ]
    },
    {
      "cell_type": "markdown",
      "metadata": {
        "id": "gWZyYmS_UE_L"
      },
      "source": [
        "### Importing the libraries"
      ]
    },
    {
      "cell_type": "code",
      "metadata": {
        "id": "MxkJoQBkUIHC"
      },
      "source": [
        "import numpy as np\n",
        "import pandas as pd\n",
        "import tensorflow as tf"
      ],
      "execution_count": 1,
      "outputs": []
    },
    {
      "cell_type": "markdown",
      "metadata": {
        "id": "1E0Q3aoKUCRX"
      },
      "source": [
        "## Part 1 - Data Preprocessing"
      ]
    },
    {
      "cell_type": "markdown",
      "metadata": {
        "id": "cKWAkFVGUU0Z"
      },
      "source": [
        "### Importing the dataset"
      ]
    },
    {
      "cell_type": "code",
      "metadata": {
        "id": "MXUkhkMfU4wq"
      },
      "source": [
        "dataset = pd.read_csv('Churn_Modelling.csv')\n",
        "X = dataset.iloc[:, 3:-1].values\n",
        "y = dataset.iloc[:, -1].values"
      ],
      "execution_count": 3,
      "outputs": []
    },
    {
      "cell_type": "code",
      "metadata": {
        "id": "VYP9cQTWbzuI",
        "outputId": "66295a9c-f103-4806-abcc-4f15712ff0df",
        "colab": {
          "base_uri": "https://localhost:8080/"
        }
      },
      "source": [
        "print(X)"
      ],
      "execution_count": 4,
      "outputs": [
        {
          "output_type": "stream",
          "name": "stdout",
          "text": [
            "[[619 'France' 'Female' ... 1 1 101348.88]\n",
            " [608 'Spain' 'Female' ... 0 1 112542.58]\n",
            " [502 'France' 'Female' ... 1 0 113931.57]\n",
            " ...\n",
            " [709 'France' 'Female' ... 0 1 42085.58]\n",
            " [772 'Germany' 'Male' ... 1 0 92888.52]\n",
            " [792 'France' 'Female' ... 1 0 38190.78]]\n"
          ]
        }
      ]
    },
    {
      "cell_type": "code",
      "metadata": {
        "id": "38vKGE6Nb2RR",
        "outputId": "539d3c47-0af6-42c5-8c6f-f8846475926b",
        "colab": {
          "base_uri": "https://localhost:8080/"
        }
      },
      "source": [
        "print(y)"
      ],
      "execution_count": 5,
      "outputs": [
        {
          "output_type": "stream",
          "name": "stdout",
          "text": [
            "[1 0 1 ... 1 1 0]\n"
          ]
        }
      ]
    },
    {
      "cell_type": "markdown",
      "metadata": {
        "id": "N6bQ0UgSU-NJ"
      },
      "source": [
        "### Encoding categorical data"
      ]
    },
    {
      "cell_type": "markdown",
      "metadata": {
        "id": "le5MJreAbW52"
      },
      "source": [
        "Label Encoding the \"Gender\" column"
      ]
    },
    {
      "cell_type": "code",
      "metadata": {
        "id": "PxVKWXxLbczC"
      },
      "source": [
        "from sklearn.preprocessing import LabelEncoder\n",
        "le = LabelEncoder()\n",
        "X[:, 2] = le.fit_transform(X[:, 2])"
      ],
      "execution_count": 6,
      "outputs": []
    },
    {
      "cell_type": "code",
      "metadata": {
        "id": "-M1KboxFb6OO",
        "outputId": "b32ef300-8480-4ae0-8014-f6506fa641e2",
        "colab": {
          "base_uri": "https://localhost:8080/"
        }
      },
      "source": [
        "print(X)"
      ],
      "execution_count": 7,
      "outputs": [
        {
          "output_type": "stream",
          "name": "stdout",
          "text": [
            "[[619 'France' 0 ... 1 1 101348.88]\n",
            " [608 'Spain' 0 ... 0 1 112542.58]\n",
            " [502 'France' 0 ... 1 0 113931.57]\n",
            " ...\n",
            " [709 'France' 0 ... 0 1 42085.58]\n",
            " [772 'Germany' 1 ... 1 0 92888.52]\n",
            " [792 'France' 0 ... 1 0 38190.78]]\n"
          ]
        }
      ]
    },
    {
      "cell_type": "markdown",
      "metadata": {
        "id": "CUxGZezpbMcb"
      },
      "source": [
        "One Hot Encoding the \"Geography\" column"
      ]
    },
    {
      "cell_type": "code",
      "metadata": {
        "id": "AMXC8-KMVirw"
      },
      "source": [
        "from sklearn.compose import ColumnTransformer\n",
        "from sklearn.preprocessing import OneHotEncoder\n",
        "ct = ColumnTransformer(transformers=[('encoder', OneHotEncoder(), [1])], remainder='passthrough')\n",
        "X = np.array(ct.fit_transform(X))"
      ],
      "execution_count": 8,
      "outputs": []
    },
    {
      "cell_type": "code",
      "metadata": {
        "id": "ZcxwEon-b8nV",
        "outputId": "6d2ddc3b-7e4b-4182-a53f-56d8ad221a9e",
        "colab": {
          "base_uri": "https://localhost:8080/"
        }
      },
      "source": [
        "print(X)"
      ],
      "execution_count": 9,
      "outputs": [
        {
          "output_type": "stream",
          "name": "stdout",
          "text": [
            "[[1.0 0.0 0.0 ... 1 1 101348.88]\n",
            " [0.0 0.0 1.0 ... 0 1 112542.58]\n",
            " [1.0 0.0 0.0 ... 1 0 113931.57]\n",
            " ...\n",
            " [1.0 0.0 0.0 ... 0 1 42085.58]\n",
            " [0.0 1.0 0.0 ... 1 0 92888.52]\n",
            " [1.0 0.0 0.0 ... 1 0 38190.78]]\n"
          ]
        }
      ]
    },
    {
      "cell_type": "markdown",
      "metadata": {
        "id": "vHol938cW8zd"
      },
      "source": [
        "### Splitting the dataset into the Training set and Test set"
      ]
    },
    {
      "cell_type": "code",
      "metadata": {
        "id": "Z-TDt0Y_XEfc"
      },
      "source": [
        "from sklearn.model_selection import train_test_split\n",
        "X_train, X_test, y_train, y_test = train_test_split(X, y, test_size = 0.2, random_state = 0)"
      ],
      "execution_count": 10,
      "outputs": []
    },
    {
      "cell_type": "markdown",
      "metadata": {
        "id": "RE_FcHyfV3TQ"
      },
      "source": [
        "### Feature Scaling"
      ]
    },
    {
      "cell_type": "code",
      "metadata": {
        "id": "ViCrE00rV8Sk"
      },
      "source": [
        "from sklearn.preprocessing import StandardScaler\n",
        "sc = StandardScaler()\n",
        "X_train = sc.fit_transform(X_train)\n",
        "X_test = sc.transform(X_test)"
      ],
      "execution_count": 11,
      "outputs": []
    },
    {
      "cell_type": "markdown",
      "metadata": {
        "id": "-zfEzkRVXIwF"
      },
      "source": [
        "## Part 2 - Building the ANN"
      ]
    },
    {
      "cell_type": "markdown",
      "metadata": {
        "id": "KvdeScabXtlB"
      },
      "source": [
        "### Initializing the ANN"
      ]
    },
    {
      "cell_type": "code",
      "metadata": {
        "id": "3dtrScHxXQox"
      },
      "source": [
        "ann = tf.keras.models.Sequential()"
      ],
      "execution_count": 12,
      "outputs": []
    },
    {
      "cell_type": "markdown",
      "metadata": {
        "id": "rP6urV6SX7kS"
      },
      "source": [
        "### Adding the input layer and the first hidden layer"
      ]
    },
    {
      "cell_type": "code",
      "metadata": {
        "id": "bppGycBXYCQr"
      },
      "source": [
        "ann.add(tf.keras.layers.Dense(units=6, activation='relu'))"
      ],
      "execution_count": 13,
      "outputs": []
    },
    {
      "cell_type": "markdown",
      "metadata": {
        "id": "BELWAc_8YJze"
      },
      "source": [
        "### Adding the second hidden layer"
      ]
    },
    {
      "cell_type": "code",
      "metadata": {
        "id": "JneR0u0sYRTd"
      },
      "source": [
        "ann.add(tf.keras.layers.Dense(units=7, activation='relu'))"
      ],
      "execution_count": 14,
      "outputs": []
    },
    {
      "cell_type": "markdown",
      "metadata": {
        "id": "OyNEe6RXYcU4"
      },
      "source": [
        "### Adding the output layer"
      ]
    },
    {
      "cell_type": "code",
      "metadata": {
        "id": "Cn3x41RBYfvY"
      },
      "source": [
        "ann.add(tf.keras.layers.Dense(units=1, activation='sigmoid'))"
      ],
      "execution_count": 15,
      "outputs": []
    },
    {
      "cell_type": "markdown",
      "metadata": {
        "id": "JT4u2S1_Y4WG"
      },
      "source": [
        "## Part 3 - Training the ANN"
      ]
    },
    {
      "cell_type": "markdown",
      "metadata": {
        "id": "8GWlJChhY_ZI"
      },
      "source": [
        "### Compiling the ANN"
      ]
    },
    {
      "cell_type": "code",
      "metadata": {
        "id": "fG3RrwDXZEaS"
      },
      "source": [
        "ann.compile(optimizer = 'adam', loss = 'binary_crossentropy', metrics = ['accuracy'])"
      ],
      "execution_count": 16,
      "outputs": []
    },
    {
      "cell_type": "markdown",
      "metadata": {
        "id": "0QR_G5u7ZLSM"
      },
      "source": [
        "### Training the ANN on the Training set"
      ]
    },
    {
      "cell_type": "code",
      "metadata": {
        "id": "nHZ-LKv_ZRb3",
        "outputId": "ed2ae240-810b-44ce-cc1a-d55e1af2c724",
        "colab": {
          "base_uri": "https://localhost:8080/"
        }
      },
      "source": [
        "ann.fit(X_train, y_train, batch_size = 32, epochs = 50)"
      ],
      "execution_count": 27,
      "outputs": [
        {
          "output_type": "stream",
          "name": "stdout",
          "text": [
            "Epoch 1/50\n",
            "250/250 [==============================] - 1s 2ms/step - loss: 0.3227 - accuracy: 0.8651\n",
            "Epoch 2/50\n",
            "250/250 [==============================] - 1s 2ms/step - loss: 0.3225 - accuracy: 0.8679\n",
            "Epoch 3/50\n",
            "250/250 [==============================] - 1s 2ms/step - loss: 0.3228 - accuracy: 0.8659\n",
            "Epoch 4/50\n",
            "250/250 [==============================] - 1s 2ms/step - loss: 0.3227 - accuracy: 0.8673\n",
            "Epoch 5/50\n",
            "250/250 [==============================] - 1s 2ms/step - loss: 0.3224 - accuracy: 0.8676\n",
            "Epoch 6/50\n",
            "250/250 [==============================] - 1s 2ms/step - loss: 0.3222 - accuracy: 0.8673\n",
            "Epoch 7/50\n",
            "250/250 [==============================] - 0s 2ms/step - loss: 0.3224 - accuracy: 0.8674\n",
            "Epoch 8/50\n",
            "250/250 [==============================] - 1s 2ms/step - loss: 0.3223 - accuracy: 0.8680\n",
            "Epoch 9/50\n",
            "250/250 [==============================] - 0s 2ms/step - loss: 0.3225 - accuracy: 0.8669\n",
            "Epoch 10/50\n",
            "250/250 [==============================] - 1s 2ms/step - loss: 0.3224 - accuracy: 0.8676\n",
            "Epoch 11/50\n",
            "250/250 [==============================] - 1s 2ms/step - loss: 0.3223 - accuracy: 0.8668\n",
            "Epoch 12/50\n",
            "250/250 [==============================] - 1s 2ms/step - loss: 0.3224 - accuracy: 0.8666\n",
            "Epoch 13/50\n",
            "250/250 [==============================] - 1s 2ms/step - loss: 0.3231 - accuracy: 0.8643\n",
            "Epoch 14/50\n",
            "250/250 [==============================] - 1s 2ms/step - loss: 0.3223 - accuracy: 0.8666\n",
            "Epoch 15/50\n",
            "250/250 [==============================] - 1s 2ms/step - loss: 0.3229 - accuracy: 0.8666\n",
            "Epoch 16/50\n",
            "250/250 [==============================] - 0s 2ms/step - loss: 0.3223 - accuracy: 0.8673\n",
            "Epoch 17/50\n",
            "250/250 [==============================] - 1s 2ms/step - loss: 0.3225 - accuracy: 0.8662\n",
            "Epoch 18/50\n",
            "250/250 [==============================] - 0s 2ms/step - loss: 0.3225 - accuracy: 0.8646\n",
            "Epoch 19/50\n",
            "250/250 [==============================] - 1s 3ms/step - loss: 0.3228 - accuracy: 0.8675\n",
            "Epoch 20/50\n",
            "250/250 [==============================] - 1s 3ms/step - loss: 0.3226 - accuracy: 0.8658\n",
            "Epoch 21/50\n",
            "250/250 [==============================] - 1s 4ms/step - loss: 0.3224 - accuracy: 0.8659\n",
            "Epoch 22/50\n",
            "250/250 [==============================] - 1s 3ms/step - loss: 0.3220 - accuracy: 0.8676\n",
            "Epoch 23/50\n",
            "250/250 [==============================] - 1s 3ms/step - loss: 0.3225 - accuracy: 0.8680\n",
            "Epoch 24/50\n",
            "250/250 [==============================] - 1s 2ms/step - loss: 0.3219 - accuracy: 0.8680\n",
            "Epoch 25/50\n",
            "250/250 [==============================] - 1s 2ms/step - loss: 0.3226 - accuracy: 0.8673\n",
            "Epoch 26/50\n",
            "250/250 [==============================] - 1s 2ms/step - loss: 0.3224 - accuracy: 0.8676\n",
            "Epoch 27/50\n",
            "250/250 [==============================] - 1s 2ms/step - loss: 0.3231 - accuracy: 0.8669\n",
            "Epoch 28/50\n",
            "250/250 [==============================] - 1s 2ms/step - loss: 0.3228 - accuracy: 0.8673\n",
            "Epoch 29/50\n",
            "250/250 [==============================] - 1s 2ms/step - loss: 0.3224 - accuracy: 0.8671\n",
            "Epoch 30/50\n",
            "250/250 [==============================] - 1s 2ms/step - loss: 0.3222 - accuracy: 0.8665\n",
            "Epoch 31/50\n",
            "250/250 [==============================] - 1s 2ms/step - loss: 0.3221 - accuracy: 0.8670\n",
            "Epoch 32/50\n",
            "250/250 [==============================] - 1s 2ms/step - loss: 0.3215 - accuracy: 0.8668\n",
            "Epoch 33/50\n",
            "250/250 [==============================] - 1s 2ms/step - loss: 0.3221 - accuracy: 0.8685\n",
            "Epoch 34/50\n",
            "250/250 [==============================] - 1s 2ms/step - loss: 0.3224 - accuracy: 0.8681\n",
            "Epoch 35/50\n",
            "250/250 [==============================] - 1s 2ms/step - loss: 0.3226 - accuracy: 0.8659\n",
            "Epoch 36/50\n",
            "250/250 [==============================] - 1s 2ms/step - loss: 0.3226 - accuracy: 0.8656\n",
            "Epoch 37/50\n",
            "250/250 [==============================] - 1s 2ms/step - loss: 0.3229 - accuracy: 0.8677\n",
            "Epoch 38/50\n",
            "250/250 [==============================] - 1s 2ms/step - loss: 0.3227 - accuracy: 0.8675\n",
            "Epoch 39/50\n",
            "250/250 [==============================] - 1s 2ms/step - loss: 0.3222 - accuracy: 0.8679\n",
            "Epoch 40/50\n",
            "250/250 [==============================] - 1s 2ms/step - loss: 0.3227 - accuracy: 0.8661\n",
            "Epoch 41/50\n",
            "250/250 [==============================] - 1s 3ms/step - loss: 0.3222 - accuracy: 0.8664\n",
            "Epoch 42/50\n",
            "250/250 [==============================] - 1s 3ms/step - loss: 0.3220 - accuracy: 0.8661\n",
            "Epoch 43/50\n",
            "250/250 [==============================] - 1s 3ms/step - loss: 0.3230 - accuracy: 0.8651\n",
            "Epoch 44/50\n",
            "250/250 [==============================] - 1s 4ms/step - loss: 0.3232 - accuracy: 0.8670\n",
            "Epoch 45/50\n",
            "250/250 [==============================] - 1s 3ms/step - loss: 0.3221 - accuracy: 0.8696\n",
            "Epoch 46/50\n",
            "250/250 [==============================] - 1s 2ms/step - loss: 0.3227 - accuracy: 0.8666\n",
            "Epoch 47/50\n",
            "250/250 [==============================] - 0s 2ms/step - loss: 0.3218 - accuracy: 0.8660\n",
            "Epoch 48/50\n",
            "250/250 [==============================] - 1s 2ms/step - loss: 0.3225 - accuracy: 0.8679\n",
            "Epoch 49/50\n",
            "250/250 [==============================] - 1s 2ms/step - loss: 0.3219 - accuracy: 0.8673\n",
            "Epoch 50/50\n",
            "250/250 [==============================] - 1s 2ms/step - loss: 0.3223 - accuracy: 0.8675\n"
          ]
        },
        {
          "output_type": "execute_result",
          "data": {
            "text/plain": [
              "<keras.src.callbacks.History at 0x79e3c5d74460>"
            ]
          },
          "metadata": {},
          "execution_count": 27
        }
      ]
    },
    {
      "cell_type": "markdown",
      "metadata": {
        "id": "tJj5k2MxZga3"
      },
      "source": [
        "## Part 4 - Making the predictions and evaluating the model"
      ]
    },
    {
      "cell_type": "markdown",
      "metadata": {
        "id": "84QFoqGYeXHL"
      },
      "source": [
        "### Predicting the result of a single observation"
      ]
    },
    {
      "cell_type": "code",
      "metadata": {
        "id": "2d8IoCCkeWGL",
        "outputId": "78e7fe4d-4a93-4f3b-b378-e96b8646024f",
        "colab": {
          "base_uri": "https://localhost:8080/"
        }
      },
      "source": [
        "print(ann.predict(sc.transform([[1, 0, 0, 600, 1, 40, 3, 60000, 2, 1, 1, 50000]])) > 0.5)"
      ],
      "execution_count": 28,
      "outputs": [
        {
          "output_type": "stream",
          "name": "stdout",
          "text": [
            "1/1 [==============================] - 0s 23ms/step\n",
            "[[False]]\n"
          ]
        }
      ]
    },
    {
      "cell_type": "markdown",
      "metadata": {
        "id": "wGjx94g2n7OV"
      },
      "source": [
        "\n",
        "**Important note 1:** Notice that the values of the features were all input in a double pair of square brackets. That's because the \"predict\" method always expects a 2D array as the format of its inputs. And putting our values into a double pair of square brackets makes the input exactly a 2D array.\n",
        "\n",
        "**Important note 2:** Notice also that the \"France\" country was not input as a string in the last column but as \"1, 0, 0\" in the first three columns. That's because of course the predict method expects the one-hot-encoded values of the state, and as we see in the first row of the matrix of features X, \"France\" was encoded as \"1, 0, 0\". And be careful to include these values in the first three columns, because the dummy variables are always created in the first columns."
      ]
    },
    {
      "cell_type": "markdown",
      "metadata": {
        "id": "u7yx47jPZt11"
      },
      "source": [
        "### Predicting the Test set results"
      ]
    },
    {
      "cell_type": "code",
      "metadata": {
        "id": "nIyEeQdRZwgs",
        "outputId": "3461b203-bd2a-4227-99c1-fdc4be9acad0",
        "colab": {
          "base_uri": "https://localhost:8080/"
        }
      },
      "source": [
        "y_pred = ann.predict(X_test)\n",
        "y_pred = (y_pred > 0.5)\n",
        "print(np.concatenate((y_pred.reshape(len(y_pred),1), y_test.reshape(len(y_test),1)),1))"
      ],
      "execution_count": 29,
      "outputs": [
        {
          "output_type": "stream",
          "name": "stdout",
          "text": [
            "63/63 [==============================] - 0s 1ms/step\n",
            "[[0 0]\n",
            " [0 1]\n",
            " [0 0]\n",
            " ...\n",
            " [0 0]\n",
            " [0 0]\n",
            " [0 0]]\n"
          ]
        }
      ]
    },
    {
      "cell_type": "markdown",
      "metadata": {
        "id": "o0oyfLWoaEGw"
      },
      "source": [
        "### Making the Confusion Matrix"
      ]
    },
    {
      "cell_type": "code",
      "metadata": {
        "id": "ci6K_r6LaF6P",
        "outputId": "c07b0103-5284-4b1e-ba47-82f57e5282dd",
        "colab": {
          "base_uri": "https://localhost:8080/"
        }
      },
      "source": [
        "from sklearn.metrics import confusion_matrix, accuracy_score\n",
        "cm = confusion_matrix(y_test, y_pred)\n",
        "print(cm)\n",
        "accuracy_score(y_test, y_pred)"
      ],
      "execution_count": 30,
      "outputs": [
        {
          "output_type": "stream",
          "name": "stdout",
          "text": [
            "[[1502   93]\n",
            " [ 182  223]]\n"
          ]
        },
        {
          "output_type": "execute_result",
          "data": {
            "text/plain": [
              "0.8625"
            ]
          },
          "metadata": {},
          "execution_count": 30
        }
      ]
    }
  ]
}